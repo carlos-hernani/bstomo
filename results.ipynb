{
 "cells": [
  {
   "cell_type": "markdown",
   "metadata": {},
   "source": [
    "# Results: Quantum Pattern Recognition with Boson-Sampling"
   ]
  },
  {
   "cell_type": "code",
   "execution_count": 1,
   "metadata": {},
   "outputs": [
    {
     "name": "stdout",
     "output_type": "stream",
     "text": [
      "Before and after dimensionality reduction explained variance ratio at 0.999\n",
      "\n",
      "1photon : 2401 \t 3\n",
      "2photon : 4096 \t 8\n",
      "3photon : 6561 \t 14\n",
      "ent1 : 4096 \t 9\n",
      "ent2 : 10000 \t 20\n",
      "ent3 : 20736 \t 24\n"
     ]
    }
   ],
   "source": [
    "import os\n",
    "import numpy as np\n",
    "from utils import *\n",
    "\n",
    "# Loading the data\n",
    "file_paths = os.path.expanduser(\"~\") + '/Dropbox/BS-Tomography/RegresionData/Data4Modes/4Modes_'\n",
    "file_names = (\n",
    "    '1photon/Data2.npz',\n",
    "    '2photon/Data_2photons.npz',\n",
    "    '3photons/Data_3photons.npz',\n",
    "    'entanglement/entanglement_state_1/Entanglement_state.npz',\n",
    "    'entanglement/entanglement_state_2/Entanglement_state_2photons.npz',\n",
    "    'entanglement/entanglement_state_3/Entanglement_state_3photons.npz'\n",
    "    )\n",
    "names = (\n",
    "    '1photon',\n",
    "    '2photon',\n",
    "    '3photon',\n",
    "    'ent1',\n",
    "    'ent2',\n",
    "    'ent3'\n",
    ")\n",
    "\n",
    "# NOTE: a for angles\n",
    "param_names = dict(zip(names ,[\n",
    "    ['a.0', 'a.1'],\n",
    "    ['r.0', 'r.1', 'r.2', 'a.0', 'a.1', 'a.2'],\n",
    "    ['r.0', 'r.1', 'r.2', 'r.3', 'a.0', 'a.1', 'a.2', 'a.3'],\n",
    "    ['E'],\n",
    "    ['E'],\n",
    "    ['E']\n",
    "]))\n",
    "\n",
    "data = {name: load_data(file_paths+path) for name, path in zip(names, file_names)}\n",
    "\n",
    "X = {}\n",
    "P = {}\n",
    "for name in names:\n",
    "    X[name], P[name] = get_dataframe(data[name], param_names[name])\n",
    "\n",
    "# Dimensionality Reduction using PCA\n",
    "X_PCA = {name: pca(X[name]) for name in names}\n",
    "print(f'Before and after dimensionality reduction explained variance ratio at {pca.__defaults__[0]}\\n')\n",
    "_ = [print(f'{name} : {X[name].shape[1]} \\t {X_PCA[name].shape[1]}') for name in names]\n",
    "\n",
    "# Training and Test Split\n",
    "xy = {name: tts(X[name], P[name], test_size=0.2, random_state=0) for name in names}\n",
    "xy_pca = {name: tts(X_PCA[name], P[name], test_size=0.2, random_state=0) for name in names}\n",
    "\n",
    "results_fidelity = []\n",
    "results_fidelity_pca = []"
   ]
  },
  {
   "cell_type": "markdown",
   "metadata": {},
   "source": [
    "## Description of the data\n",
    "\n",
    "We have 6 datasets:\n",
    "\n",
    "* 1 photon : two parameters ($\\beta, \\phi_1$)\n",
    "* 2 photon : five parameters ($r_0, r_1, r_2$), ($\\phi_0, \\phi_1, \\phi_2$); $\\phi_0 = 0$\n",
    "* 3 photon : seven parameters ($r_0, r_1, r_2, r_3$), ($\\phi_0, \\phi_1, \\phi_2, \\phi_3$); $\\phi_0 = 0$\n",
    "* Entangled 1: one parameter $E$\n",
    "* Entangled 2: one parameter $E$\n",
    "* Entangled 3: one parameter $E$"
   ]
  },
  {
   "cell_type": "markdown",
   "metadata": {},
   "source": [
    "### 4 MODES 1 PHOTON\n",
    "\n",
    "$|\\eta_3 > = cos \\beta |0> + sin \\beta e^{i\\phi_1} = r_0|0> + r_1 e^{i\\phi_1}$\n"
   ]
  },
  {
   "cell_type": "code",
   "execution_count": 2,
   "metadata": {},
   "outputs": [
    {
     "data": {
      "text/html": "<div>\n<style scoped>\n    .dataframe tbody tr th:only-of-type {\n        vertical-align: middle;\n    }\n\n    .dataframe tbody tr th {\n        vertical-align: top;\n    }\n\n    .dataframe thead th {\n        text-align: right;\n    }\n</style>\n<table border=\"1\" class=\"dataframe\">\n  <thead>\n    <tr style=\"text-align: right;\">\n      <th></th>\n      <th>a.0</th>\n      <th>a.1</th>\n    </tr>\n  </thead>\n  <tbody>\n    <tr>\n      <th>0</th>\n      <td>2.681106</td>\n      <td>5.677277</td>\n    </tr>\n    <tr>\n      <th>1</th>\n      <td>3.442891</td>\n      <td>3.251803</td>\n    </tr>\n    <tr>\n      <th>2</th>\n      <td>1.573461</td>\n      <td>1.808171</td>\n    </tr>\n    <tr>\n      <th>3</th>\n      <td>2.458029</td>\n      <td>5.457656</td>\n    </tr>\n    <tr>\n      <th>4</th>\n      <td>4.212859</td>\n      <td>5.054799</td>\n    </tr>\n  </tbody>\n</table>\n</div>",
      "text/plain": "        a.0       a.1\n0  2.681106  5.677277\n1  3.442891  3.251803\n2  1.573461  1.808171\n3  2.458029  5.457656\n4  4.212859  5.054799"
     },
     "execution_count": 2,
     "metadata": {},
     "output_type": "execute_result"
    }
   ],
   "source": [
    "name = '1photon'\n",
    "P[name].head()"
   ]
  },
  {
   "cell_type": "code",
   "execution_count": 3,
   "metadata": {},
   "outputs": [
    {
     "name": "stdout",
     "output_type": "stream",
     "text": [
      "Model: [ExtraTreesRegressor(n_estimators=400, random_state=0)] \t Score: [-0.1978806634817888]\n",
      "\n",
      "Model: [ExtraTreesRegressor(n_estimators=400, random_state=0)] \t Score: [-0.1978806634817888]\n",
      "\n"
     ]
    }
   ],
   "source": [
    "model = etr_reg(xy[name])\n",
    "scores(model)\n",
    "model_pca = etr_reg(xy_pca[name])\n",
    "scores(model)"
   ]
  },
  {
   "cell_type": "code",
   "execution_count": 4,
   "metadata": {},
   "outputs": [
    {
     "data": {
      "text/html": "<div>\n<style scoped>\n    .dataframe tbody tr th:only-of-type {\n        vertical-align: middle;\n    }\n\n    .dataframe tbody tr th {\n        vertical-align: top;\n    }\n\n    .dataframe thead th {\n        text-align: right;\n    }\n</style>\n<table border=\"1\" class=\"dataframe\">\n  <thead>\n    <tr style=\"text-align: right;\">\n      <th></th>\n      <th>1_etr</th>\n    </tr>\n  </thead>\n  <tbody>\n    <tr>\n      <th>count</th>\n      <td>200.000000</td>\n    </tr>\n    <tr>\n      <th>mean</th>\n      <td>0.719850</td>\n    </tr>\n    <tr>\n      <th>std</th>\n      <td>0.227072</td>\n    </tr>\n    <tr>\n      <th>min</th>\n      <td>0.069204</td>\n    </tr>\n    <tr>\n      <th>25%</th>\n      <td>0.557748</td>\n    </tr>\n    <tr>\n      <th>50%</th>\n      <td>0.751323</td>\n    </tr>\n    <tr>\n      <th>75%</th>\n      <td>0.916520</td>\n    </tr>\n    <tr>\n      <th>max</th>\n      <td>0.999996</td>\n    </tr>\n  </tbody>\n</table>\n</div>",
      "text/plain": "            1_etr\ncount  200.000000\nmean     0.719850\nstd      0.227072\nmin      0.069204\n25%      0.557748\n50%      0.751323\n75%      0.916520\nmax      0.999996"
     },
     "execution_count": 4,
     "metadata": {},
     "output_type": "execute_result"
    }
   ],
   "source": [
    "# pca and non-pca give the same R2-score so we use the simplest one\n",
    "fid1_etr = fidelity_1(real=model['real'] ,predictions=model['preds'])\n",
    "res1_etr = pd.DataFrame(fid1_etr, columns=['1_etr'])\n",
    "results_fidelity.append(res1_etr)\n",
    "res1_etr.describe()"
   ]
  },
  {
   "cell_type": "code",
   "execution_count": 5,
   "metadata": {},
   "outputs": [
    {
     "data": {
      "text/html": "<div>\n<style scoped>\n    .dataframe tbody tr th:only-of-type {\n        vertical-align: middle;\n    }\n\n    .dataframe tbody tr th {\n        vertical-align: top;\n    }\n\n    .dataframe thead th {\n        text-align: right;\n    }\n</style>\n<table border=\"1\" class=\"dataframe\">\n  <thead>\n    <tr style=\"text-align: right;\">\n      <th></th>\n      <th>1_etr</th>\n    </tr>\n  </thead>\n  <tbody>\n    <tr>\n      <th>count</th>\n      <td>200.000000</td>\n    </tr>\n    <tr>\n      <th>mean</th>\n      <td>0.628490</td>\n    </tr>\n    <tr>\n      <th>std</th>\n      <td>0.236488</td>\n    </tr>\n    <tr>\n      <th>min</th>\n      <td>0.041774</td>\n    </tr>\n    <tr>\n      <th>25%</th>\n      <td>0.447965</td>\n    </tr>\n    <tr>\n      <th>50%</th>\n      <td>0.650958</td>\n    </tr>\n    <tr>\n      <th>75%</th>\n      <td>0.828790</td>\n    </tr>\n    <tr>\n      <th>max</th>\n      <td>0.999078</td>\n    </tr>\n  </tbody>\n</table>\n</div>",
      "text/plain": "            1_etr\ncount  200.000000\nmean     0.628490\nstd      0.236488\nmin      0.041774\n25%      0.447965\n50%      0.650958\n75%      0.828790\nmax      0.999078"
     },
     "execution_count": 5,
     "metadata": {},
     "output_type": "execute_result"
    }
   ],
   "source": [
    "# pca and non-pca give the same R2-score so we use the simplest one\n",
    "fid1_etr = fidelity_1(real=model_pca['real'] ,predictions=model_pca['preds'])\n",
    "res1_etr = pd.DataFrame(fid1_etr, columns=['1_etr'])\n",
    "results_fidelity_pca.append(res1_etr)\n",
    "res1_etr.describe()"
   ]
  },
  {
   "cell_type": "code",
   "execution_count": 5,
   "metadata": {},
   "outputs": [
    {
     "name": "stdout",
     "output_type": "stream",
     "text": [
      "Model: [SVR(), SVR()] \t Score: [-0.06526076698606476, -0.0694580639515947]\n",
      "\n",
      "Model: [SVR(), SVR()] \t Score: [-0.0963261158619082, -0.12513922270867583]\n",
      "\n"
     ]
    }
   ],
   "source": [
    "model = svr_reg(xy[name])\n",
    "scores(model)\n",
    "model_pca = svr_reg(xy_pca[name])\n",
    "scores(model_pca)"
   ]
  },
  {
   "cell_type": "code",
   "execution_count": 6,
   "metadata": {},
   "outputs": [
    {
     "data": {
      "text/html": "<div>\n<style scoped>\n    .dataframe tbody tr th:only-of-type {\n        vertical-align: middle;\n    }\n\n    .dataframe tbody tr th {\n        vertical-align: top;\n    }\n\n    .dataframe thead th {\n        text-align: right;\n    }\n</style>\n<table border=\"1\" class=\"dataframe\">\n  <thead>\n    <tr style=\"text-align: right;\">\n      <th></th>\n      <th>1_svr</th>\n    </tr>\n  </thead>\n  <tbody>\n    <tr>\n      <th>count</th>\n      <td>200.000000</td>\n    </tr>\n    <tr>\n      <th>mean</th>\n      <td>0.823151</td>\n    </tr>\n    <tr>\n      <th>std</th>\n      <td>0.190404</td>\n    </tr>\n    <tr>\n      <th>min</th>\n      <td>0.054745</td>\n    </tr>\n    <tr>\n      <th>25%</th>\n      <td>0.740702</td>\n    </tr>\n    <tr>\n      <th>50%</th>\n      <td>0.881910</td>\n    </tr>\n    <tr>\n      <th>75%</th>\n      <td>0.970362</td>\n    </tr>\n    <tr>\n      <th>max</th>\n      <td>0.999827</td>\n    </tr>\n  </tbody>\n</table>\n</div>",
      "text/plain": "            1_svr\ncount  200.000000\nmean     0.823151\nstd      0.190404\nmin      0.054745\n25%      0.740702\n50%      0.881910\n75%      0.970362\nmax      0.999827"
     },
     "execution_count": 6,
     "metadata": {},
     "output_type": "execute_result"
    }
   ],
   "source": [
    "# pca and non-pca give almost the same R2-score so we use the simplest one\n",
    "fid1_svr = fidelity_1(real=model['real'] ,predictions=model['preds'])\n",
    "res1_svr = pd.DataFrame(fid1_svr, columns=['1_svr'])\n",
    "results_fidelity.append(res1_svr)\n",
    "res1_svr.describe()"
   ]
  },
  {
   "cell_type": "code",
   "execution_count": 8,
   "metadata": {},
   "outputs": [
    {
     "data": {
      "text/html": "<div>\n<style scoped>\n    .dataframe tbody tr th:only-of-type {\n        vertical-align: middle;\n    }\n\n    .dataframe tbody tr th {\n        vertical-align: top;\n    }\n\n    .dataframe thead th {\n        text-align: right;\n    }\n</style>\n<table border=\"1\" class=\"dataframe\">\n  <thead>\n    <tr style=\"text-align: right;\">\n      <th></th>\n      <th>1_svr</th>\n    </tr>\n  </thead>\n  <tbody>\n    <tr>\n      <th>count</th>\n      <td>200.000000</td>\n    </tr>\n    <tr>\n      <th>mean</th>\n      <td>0.816223</td>\n    </tr>\n    <tr>\n      <th>std</th>\n      <td>0.221873</td>\n    </tr>\n    <tr>\n      <th>min</th>\n      <td>0.058625</td>\n    </tr>\n    <tr>\n      <th>25%</th>\n      <td>0.734036</td>\n    </tr>\n    <tr>\n      <th>50%</th>\n      <td>0.908766</td>\n    </tr>\n    <tr>\n      <th>75%</th>\n      <td>0.986301</td>\n    </tr>\n    <tr>\n      <th>max</th>\n      <td>0.999982</td>\n    </tr>\n  </tbody>\n</table>\n</div>",
      "text/plain": [
       "            1_svr\n",
       "count  200.000000\n",
       "mean     0.816223\n",
       "std      0.221873\n",
       "min      0.058625\n",
       "25%      0.734036\n",
       "50%      0.908766\n",
       "75%      0.986301\n",
       "max      0.999982"
      ]
     },
     "execution_count": 8,
     "metadata": {},
     "output_type": "execute_result"
    }
   ],
   "source": [
    "# pca and non-pca give almost the same R2-score so we use the simplest one\n",
    "fid1_svr = fidelity_1(real=model_pca['real'] ,predictions=model_pca['preds'])\n",
    "res1_svr = pd.DataFrame(fid1_svr, columns=['1_svr'])\n",
    "results_fidelity_pca.append(res1_svr)\n",
    "res1_svr.describe()"
   ]
  },
  {
   "cell_type": "markdown",
   "metadata": {},
   "source": [
    "### 4 MODES 2 PHOTON"
   ]
  },
  {
   "cell_type": "code",
   "execution_count": 9,
   "metadata": {},
   "outputs": [
    {
     "data": {
      "text/html": "<div>\n<style scoped>\n    .dataframe tbody tr th:only-of-type {\n        vertical-align: middle;\n    }\n\n    .dataframe tbody tr th {\n        vertical-align: top;\n    }\n\n    .dataframe thead th {\n        text-align: right;\n    }\n</style>\n<table border=\"1\" class=\"dataframe\">\n  <thead>\n    <tr style=\"text-align: right;\">\n      <th></th>\n      <th>r.0</th>\n      <th>r.1</th>\n      <th>r.2</th>\n      <th>a.0</th>\n      <th>a.1</th>\n      <th>a.2</th>\n    </tr>\n  </thead>\n  <tbody>\n    <tr>\n      <th>0</th>\n      <td>0.314496</td>\n      <td>0.802115</td>\n      <td>0.507645</td>\n      <td>0.0</td>\n      <td>2.411273</td>\n      <td>1.772315</td>\n    </tr>\n    <tr>\n      <th>1</th>\n      <td>0.603787</td>\n      <td>0.761947</td>\n      <td>0.234259</td>\n      <td>0.0</td>\n      <td>2.258162</td>\n      <td>3.753475</td>\n    </tr>\n    <tr>\n      <th>2</th>\n      <td>0.689093</td>\n      <td>0.370180</td>\n      <td>0.622991</td>\n      <td>0.0</td>\n      <td>0.085760</td>\n      <td>1.398414</td>\n    </tr>\n    <tr>\n      <th>3</th>\n      <td>0.957086</td>\n      <td>0.289716</td>\n      <td>0.007130</td>\n      <td>0.0</td>\n      <td>5.134881</td>\n      <td>2.037236</td>\n    </tr>\n    <tr>\n      <th>4</th>\n      <td>0.730309</td>\n      <td>0.682936</td>\n      <td>0.015724</td>\n      <td>0.0</td>\n      <td>1.649952</td>\n      <td>3.761950</td>\n    </tr>\n  </tbody>\n</table>\n</div>",
      "text/plain": [
       "        r.0       r.1       r.2  a.0       a.1       a.2\n",
       "0  0.314496  0.802115  0.507645  0.0  2.411273  1.772315\n",
       "1  0.603787  0.761947  0.234259  0.0  2.258162  3.753475\n",
       "2  0.689093  0.370180  0.622991  0.0  0.085760  1.398414\n",
       "3  0.957086  0.289716  0.007130  0.0  5.134881  2.037236\n",
       "4  0.730309  0.682936  0.015724  0.0  1.649952  3.761950"
      ]
     },
     "execution_count": 9,
     "metadata": {},
     "output_type": "execute_result"
    }
   ],
   "source": [
    "name = '2photon'\n",
    "P[name].head()"
   ]
  },
  {
   "cell_type": "code",
   "execution_count": 10,
   "metadata": {},
   "outputs": [
    {
     "name": "stdout",
     "output_type": "stream",
     "text": [
      "Model: [ExtraTreesRegressor(n_estimators=400, random_state=0)] \t Score: [0.848818882038656]\n",
      "\n",
      "Model: [ExtraTreesRegressor(n_estimators=400, random_state=0)] \t Score: [0.848818882038656]\n",
      "\n"
     ]
    }
   ],
   "source": [
    "model = etr_reg(xy[name])\n",
    "scores(model)\n",
    "model_pca = etr_reg(xy_pca[name])\n",
    "scores(model)"
   ]
  },
  {
   "cell_type": "code",
   "execution_count": 11,
   "metadata": {},
   "outputs": [
    {
     "data": {
      "text/html": "<div>\n<style scoped>\n    .dataframe tbody tr th:only-of-type {\n        vertical-align: middle;\n    }\n\n    .dataframe tbody tr th {\n        vertical-align: top;\n    }\n\n    .dataframe thead th {\n        text-align: right;\n    }\n</style>\n<table border=\"1\" class=\"dataframe\">\n  <thead>\n    <tr style=\"text-align: right;\">\n      <th></th>\n      <th>2_etr</th>\n    </tr>\n  </thead>\n  <tbody>\n    <tr>\n      <th>count</th>\n      <td>200.000000</td>\n    </tr>\n    <tr>\n      <th>mean</th>\n      <td>0.900017</td>\n    </tr>\n    <tr>\n      <th>std</th>\n      <td>0.191405</td>\n    </tr>\n    <tr>\n      <th>min</th>\n      <td>0.138863</td>\n    </tr>\n    <tr>\n      <th>25%</th>\n      <td>0.934672</td>\n    </tr>\n    <tr>\n      <th>50%</th>\n      <td>0.987036</td>\n    </tr>\n    <tr>\n      <th>75%</th>\n      <td>0.994959</td>\n    </tr>\n    <tr>\n      <th>max</th>\n      <td>0.999894</td>\n    </tr>\n  </tbody>\n</table>\n</div>",
      "text/plain": [
       "            2_etr\n",
       "count  200.000000\n",
       "mean     0.900017\n",
       "std      0.191405\n",
       "min      0.138863\n",
       "25%      0.934672\n",
       "50%      0.987036\n",
       "75%      0.994959\n",
       "max      0.999894"
      ]
     },
     "execution_count": 11,
     "metadata": {},
     "output_type": "execute_result"
    }
   ],
   "source": [
    "npreds = norm(model['preds'])\n",
    "npreds.head()\n",
    "fid2_etr = fidelity_2(model['real'], npreds)\n",
    "res2_etr = pd.DataFrame(fid2_etr, columns=['2_etr'])\n",
    "results_fidelity.append(res2_etr)\n",
    "res2_etr.describe()"
   ]
  },
  {
   "cell_type": "code",
   "execution_count": 12,
   "metadata": {},
   "outputs": [
    {
     "data": {
      "text/html": "<div>\n<style scoped>\n    .dataframe tbody tr th:only-of-type {\n        vertical-align: middle;\n    }\n\n    .dataframe tbody tr th {\n        vertical-align: top;\n    }\n\n    .dataframe thead th {\n        text-align: right;\n    }\n</style>\n<table border=\"1\" class=\"dataframe\">\n  <thead>\n    <tr style=\"text-align: right;\">\n      <th></th>\n      <th>2_etr</th>\n    </tr>\n  </thead>\n  <tbody>\n    <tr>\n      <th>count</th>\n      <td>200.000000</td>\n    </tr>\n    <tr>\n      <th>mean</th>\n      <td>0.922877</td>\n    </tr>\n    <tr>\n      <th>std</th>\n      <td>0.157877</td>\n    </tr>\n    <tr>\n      <th>min</th>\n      <td>0.050081</td>\n    </tr>\n    <tr>\n      <th>25%</th>\n      <td>0.947035</td>\n    </tr>\n    <tr>\n      <th>50%</th>\n      <td>0.981661</td>\n    </tr>\n    <tr>\n      <th>75%</th>\n      <td>0.992386</td>\n    </tr>\n    <tr>\n      <th>max</th>\n      <td>0.999749</td>\n    </tr>\n  </tbody>\n</table>\n</div>",
      "text/plain": [
       "            2_etr\n",
       "count  200.000000\n",
       "mean     0.922877\n",
       "std      0.157877\n",
       "min      0.050081\n",
       "25%      0.947035\n",
       "50%      0.981661\n",
       "75%      0.992386\n",
       "max      0.999749"
      ]
     },
     "execution_count": 12,
     "metadata": {},
     "output_type": "execute_result"
    }
   ],
   "source": [
    "npreds = norm(model_pca['preds'])\n",
    "npreds.head()\n",
    "fid2_etr = fidelity_2(model_pca['real'], npreds)\n",
    "res2_etr = pd.DataFrame(fid2_etr, columns=['2_etr'])\n",
    "results_fidelity_pca.append(res2_etr)\n",
    "res2_etr.describe()"
   ]
  },
  {
   "cell_type": "code",
   "execution_count": 13,
   "metadata": {},
   "outputs": [
    {
     "name": "stdout",
     "output_type": "stream",
     "text": [
      "Model: [SVR(), SVR(), SVR(), SVR(), SVR(), SVR()] \t Score: [0.9455768828556027, 0.9054181865949131, 0.9464830433081869, 1.0, 0.5266996532768887, 0.38809455232347534]\n",
      "\n",
      "Model: [SVR(), SVR(), SVR(), SVR(), SVR(), SVR()] \t Score: [0.9096359573276881, 0.9061318141586427, 0.9319535365082355, 1.0, 0.5830492017287403, 0.4181062673289363]\n",
      "\n"
     ]
    }
   ],
   "source": [
    "model = svr_reg(xy[name])\n",
    "scores(model)\n",
    "model_pca = svr_reg(xy_pca[name])\n",
    "scores(model_pca)"
   ]
  },
  {
   "cell_type": "code",
   "execution_count": 14,
   "metadata": {},
   "outputs": [
    {
     "data": {
      "text/html": "<div>\n<style scoped>\n    .dataframe tbody tr th:only-of-type {\n        vertical-align: middle;\n    }\n\n    .dataframe tbody tr th {\n        vertical-align: top;\n    }\n\n    .dataframe thead th {\n        text-align: right;\n    }\n</style>\n<table border=\"1\" class=\"dataframe\">\n  <thead>\n    <tr style=\"text-align: right;\">\n      <th></th>\n      <th>2_svr</th>\n    </tr>\n  </thead>\n  <tbody>\n    <tr>\n      <th>count</th>\n      <td>200.000000</td>\n    </tr>\n    <tr>\n      <th>mean</th>\n      <td>0.850400</td>\n    </tr>\n    <tr>\n      <th>std</th>\n      <td>0.204878</td>\n    </tr>\n    <tr>\n      <th>min</th>\n      <td>0.105860</td>\n    </tr>\n    <tr>\n      <th>25%</th>\n      <td>0.787348</td>\n    </tr>\n    <tr>\n      <th>50%</th>\n      <td>0.950054</td>\n    </tr>\n    <tr>\n      <th>75%</th>\n      <td>0.983219</td>\n    </tr>\n    <tr>\n      <th>max</th>\n      <td>0.998861</td>\n    </tr>\n  </tbody>\n</table>\n</div>",
      "text/plain": [
       "            2_svr\n",
       "count  200.000000\n",
       "mean     0.850400\n",
       "std      0.204878\n",
       "min      0.105860\n",
       "25%      0.787348\n",
       "50%      0.950054\n",
       "75%      0.983219\n",
       "max      0.998861"
      ]
     },
     "execution_count": 14,
     "metadata": {},
     "output_type": "execute_result"
    }
   ],
   "source": [
    "npreds = norm(model['preds'])\n",
    "npreds.head()\n",
    "fid2_svr = fidelity_2(model['real'], npreds)\n",
    "res2_svr = pd.DataFrame(fid2_svr, columns=['2_svr'])\n",
    "results_fidelity.append(res2_svr)\n",
    "res2_svr.describe()"
   ]
  },
  {
   "cell_type": "code",
   "execution_count": 15,
   "metadata": {},
   "outputs": [
    {
     "data": {
      "text/html": "<div>\n<style scoped>\n    .dataframe tbody tr th:only-of-type {\n        vertical-align: middle;\n    }\n\n    .dataframe tbody tr th {\n        vertical-align: top;\n    }\n\n    .dataframe thead th {\n        text-align: right;\n    }\n</style>\n<table border=\"1\" class=\"dataframe\">\n  <thead>\n    <tr style=\"text-align: right;\">\n      <th></th>\n      <th>2_svr</th>\n    </tr>\n  </thead>\n  <tbody>\n    <tr>\n      <th>count</th>\n      <td>200.000000</td>\n    </tr>\n    <tr>\n      <th>mean</th>\n      <td>0.867969</td>\n    </tr>\n    <tr>\n      <th>std</th>\n      <td>0.200754</td>\n    </tr>\n    <tr>\n      <th>min</th>\n      <td>0.127300</td>\n    </tr>\n    <tr>\n      <th>25%</th>\n      <td>0.811426</td>\n    </tr>\n    <tr>\n      <th>50%</th>\n      <td>0.963327</td>\n    </tr>\n    <tr>\n      <th>75%</th>\n      <td>0.991305</td>\n    </tr>\n    <tr>\n      <th>max</th>\n      <td>0.998994</td>\n    </tr>\n  </tbody>\n</table>\n</div>",
      "text/plain": [
       "            2_svr\n",
       "count  200.000000\n",
       "mean     0.867969\n",
       "std      0.200754\n",
       "min      0.127300\n",
       "25%      0.811426\n",
       "50%      0.963327\n",
       "75%      0.991305\n",
       "max      0.998994"
      ]
     },
     "execution_count": 15,
     "metadata": {},
     "output_type": "execute_result"
    }
   ],
   "source": [
    "npreds = norm(model_pca['preds'])\n",
    "npreds.head()\n",
    "fid2_svr = fidelity_2(model_pca['real'], npreds)\n",
    "res2_svr = pd.DataFrame(fid2_svr, columns=['2_svr'])\n",
    "results_fidelity_pca.append(res2_svr)\n",
    "res2_svr.describe()"
   ]
  },
  {
   "cell_type": "markdown",
   "metadata": {},
   "source": [
    "### 4 MODES 3 PHOTON"
   ]
  },
  {
   "cell_type": "code",
   "execution_count": 2,
   "metadata": {},
   "outputs": [
    {
     "data": {
      "text/html": "<div>\n<style scoped>\n    .dataframe tbody tr th:only-of-type {\n        vertical-align: middle;\n    }\n\n    .dataframe tbody tr th {\n        vertical-align: top;\n    }\n\n    .dataframe thead th {\n        text-align: right;\n    }\n</style>\n<table border=\"1\" class=\"dataframe\">\n  <thead>\n    <tr style=\"text-align: right;\">\n      <th></th>\n      <th>r.0</th>\n      <th>r.1</th>\n      <th>r.2</th>\n      <th>r.3</th>\n      <th>a.0</th>\n      <th>a.1</th>\n      <th>a.2</th>\n      <th>a.3</th>\n    </tr>\n  </thead>\n  <tbody>\n    <tr>\n      <th>0</th>\n      <td>0.216019</td>\n      <td>0.835665</td>\n      <td>0.123032</td>\n      <td>0.489758</td>\n      <td>0.0</td>\n      <td>3.859133</td>\n      <td>0.531111</td>\n      <td>2.757912</td>\n    </tr>\n    <tr>\n      <th>1</th>\n      <td>0.678245</td>\n      <td>0.226038</td>\n      <td>0.590947</td>\n      <td>0.373727</td>\n      <td>0.0</td>\n      <td>0.584273</td>\n      <td>3.665837</td>\n      <td>3.101988</td>\n    </tr>\n    <tr>\n      <th>2</th>\n      <td>0.426414</td>\n      <td>0.082644</td>\n      <td>0.815626</td>\n      <td>0.382224</td>\n      <td>0.0</td>\n      <td>5.090608</td>\n      <td>2.695038</td>\n      <td>5.662643</td>\n    </tr>\n    <tr>\n      <th>3</th>\n      <td>0.567067</td>\n      <td>0.290045</td>\n      <td>0.706686</td>\n      <td>0.308065</td>\n      <td>0.0</td>\n      <td>4.226067</td>\n      <td>2.989437</td>\n      <td>6.127577</td>\n    </tr>\n    <tr>\n      <th>4</th>\n      <td>0.118394</td>\n      <td>0.199173</td>\n      <td>0.228548</td>\n      <td>0.945557</td>\n      <td>0.0</td>\n      <td>1.705879</td>\n      <td>2.967568</td>\n      <td>5.823832</td>\n    </tr>\n  </tbody>\n</table>\n</div>",
      "text/plain": "        r.0       r.1       r.2       r.3  a.0       a.1       a.2       a.3\n0  0.216019  0.835665  0.123032  0.489758  0.0  3.859133  0.531111  2.757912\n1  0.678245  0.226038  0.590947  0.373727  0.0  0.584273  3.665837  3.101988\n2  0.426414  0.082644  0.815626  0.382224  0.0  5.090608  2.695038  5.662643\n3  0.567067  0.290045  0.706686  0.308065  0.0  4.226067  2.989437  6.127577\n4  0.118394  0.199173  0.228548  0.945557  0.0  1.705879  2.967568  5.823832"
     },
     "execution_count": 2,
     "metadata": {},
     "output_type": "execute_result"
    }
   ],
   "source": [
    "name = '3photon'\n",
    "P[name].head()"
   ]
  },
  {
   "cell_type": "code",
   "execution_count": 17,
   "metadata": {},
   "outputs": [
    {
     "name": "stdout",
     "output_type": "stream",
     "text": [
      "Model: [ExtraTreesRegressor(n_estimators=400, random_state=0)] \t Score: [0.6816437061031928]\n",
      "\n",
      "Model: [ExtraTreesRegressor(n_estimators=400, random_state=0)] \t Score: [0.6816437061031928]\n",
      "\n"
     ]
    }
   ],
   "source": [
    "model = etr_reg(xy[name])\n",
    "scores(model)\n",
    "model_pca = etr_reg(xy_pca[name])\n",
    "scores(model)"
   ]
  },
  {
   "cell_type": "code",
   "execution_count": 18,
   "metadata": {},
   "outputs": [
    {
     "data": {
      "text/html": "<div>\n<style scoped>\n    .dataframe tbody tr th:only-of-type {\n        vertical-align: middle;\n    }\n\n    .dataframe tbody tr th {\n        vertical-align: top;\n    }\n\n    .dataframe thead th {\n        text-align: right;\n    }\n</style>\n<table border=\"1\" class=\"dataframe\">\n  <thead>\n    <tr style=\"text-align: right;\">\n      <th></th>\n      <th>3_etr</th>\n    </tr>\n  </thead>\n  <tbody>\n    <tr>\n      <th>count</th>\n      <td>200.000000</td>\n    </tr>\n    <tr>\n      <th>mean</th>\n      <td>0.761558</td>\n    </tr>\n    <tr>\n      <th>std</th>\n      <td>0.206226</td>\n    </tr>\n    <tr>\n      <th>min</th>\n      <td>0.090518</td>\n    </tr>\n    <tr>\n      <th>25%</th>\n      <td>0.671530</td>\n    </tr>\n    <tr>\n      <th>50%</th>\n      <td>0.813736</td>\n    </tr>\n    <tr>\n      <th>75%</th>\n      <td>0.928541</td>\n    </tr>\n    <tr>\n      <th>max</th>\n      <td>0.988078</td>\n    </tr>\n  </tbody>\n</table>\n</div>",
      "text/plain": [
       "            3_etr\n",
       "count  200.000000\n",
       "mean     0.761558\n",
       "std      0.206226\n",
       "min      0.090518\n",
       "25%      0.671530\n",
       "50%      0.813736\n",
       "75%      0.928541\n",
       "max      0.988078"
      ]
     },
     "execution_count": 18,
     "metadata": {},
     "output_type": "execute_result"
    }
   ],
   "source": [
    "npreds = norm(model['preds'])\n",
    "npreds.head()\n",
    "fid3_etr = fidelity_2(model['real'], npreds)\n",
    "res3_etr = pd.DataFrame(fid3_etr, columns=['3_etr'])\n",
    "results_fidelity.append(res3_etr)\n",
    "res3_etr.describe()"
   ]
  },
  {
   "cell_type": "code",
   "execution_count": 19,
   "metadata": {},
   "outputs": [
    {
     "data": {
      "text/html": "<div>\n<style scoped>\n    .dataframe tbody tr th:only-of-type {\n        vertical-align: middle;\n    }\n\n    .dataframe tbody tr th {\n        vertical-align: top;\n    }\n\n    .dataframe thead th {\n        text-align: right;\n    }\n</style>\n<table border=\"1\" class=\"dataframe\">\n  <thead>\n    <tr style=\"text-align: right;\">\n      <th></th>\n      <th>3_etr</th>\n    </tr>\n  </thead>\n  <tbody>\n    <tr>\n      <th>count</th>\n      <td>200.000000</td>\n    </tr>\n    <tr>\n      <th>mean</th>\n      <td>0.787241</td>\n    </tr>\n    <tr>\n      <th>std</th>\n      <td>0.189888</td>\n    </tr>\n    <tr>\n      <th>min</th>\n      <td>0.116078</td>\n    </tr>\n    <tr>\n      <th>25%</th>\n      <td>0.702872</td>\n    </tr>\n    <tr>\n      <th>50%</th>\n      <td>0.852074</td>\n    </tr>\n    <tr>\n      <th>75%</th>\n      <td>0.936313</td>\n    </tr>\n    <tr>\n      <th>max</th>\n      <td>0.994355</td>\n    </tr>\n  </tbody>\n</table>\n</div>",
      "text/plain": [
       "            3_etr\n",
       "count  200.000000\n",
       "mean     0.787241\n",
       "std      0.189888\n",
       "min      0.116078\n",
       "25%      0.702872\n",
       "50%      0.852074\n",
       "75%      0.936313\n",
       "max      0.994355"
      ]
     },
     "execution_count": 19,
     "metadata": {},
     "output_type": "execute_result"
    }
   ],
   "source": [
    "npreds = norm(model_pca['preds'])\n",
    "npreds.head()\n",
    "fid3_etr = fidelity_2(model_pca['real'], npreds)\n",
    "res3_etr = pd.DataFrame(fid3_etr, columns=['3_etr'])\n",
    "results_fidelity_pca.append(res3_etr)\n",
    "res3_etr.describe()"
   ]
  },
  {
   "cell_type": "code",
   "execution_count": 5,
   "metadata": {},
   "outputs": [
    {
     "name": "stdout",
     "output_type": "stream",
     "text": [
      "Model: [SVR(kernel='poly'), SVR(kernel='poly'), SVR(kernel='poly'), SVR(kernel='poly'), SVR(kernel='poly'), SVR(kernel='poly'), SVR(kernel='poly'), SVR(kernel='poly')] \t Score: [0.9240450823413321, 0.9051505303457971, 0.8904788282930598, 0.9241361807239017, 1.0, 0.4372248690608318, 0.33592930920400266, 0.12982184975013467]\n",
      "\n",
      "Model: [SVR(), SVR(), SVR(), SVR(), SVR(), SVR(), SVR(), SVR()] \t Score: [0.8981531780027968, 0.9058017243388665, 0.8973197452572667, 0.9015951312471415, 1.0, 0.5265597325842322, 0.39423205916216353, 0.039074562336622765]\n",
      "\n"
     ]
    }
   ],
   "source": [
    "model = svr_reg(xy[name],kernel='poly')\n",
    "scores(model)\n",
    "model_pca = svr_reg(xy_pca[name])\n",
    "scores(model_pca)"
   ]
  },
  {
   "cell_type": "code",
   "execution_count": 6,
   "metadata": {},
   "outputs": [
    {
     "data": {
      "text/html": "<div>\n<style scoped>\n    .dataframe tbody tr th:only-of-type {\n        vertical-align: middle;\n    }\n\n    .dataframe tbody tr th {\n        vertical-align: top;\n    }\n\n    .dataframe thead th {\n        text-align: right;\n    }\n</style>\n<table border=\"1\" class=\"dataframe\">\n  <thead>\n    <tr style=\"text-align: right;\">\n      <th></th>\n      <th>3_svr</th>\n    </tr>\n  </thead>\n  <tbody>\n    <tr>\n      <th>count</th>\n      <td>200.000000</td>\n    </tr>\n    <tr>\n      <th>mean</th>\n      <td>0.735201</td>\n    </tr>\n    <tr>\n      <th>std</th>\n      <td>0.221150</td>\n    </tr>\n    <tr>\n      <th>min</th>\n      <td>0.063000</td>\n    </tr>\n    <tr>\n      <th>25%</th>\n      <td>0.620836</td>\n    </tr>\n    <tr>\n      <th>50%</th>\n      <td>0.802010</td>\n    </tr>\n    <tr>\n      <th>75%</th>\n      <td>0.926584</td>\n    </tr>\n    <tr>\n      <th>max</th>\n      <td>0.991405</td>\n    </tr>\n  </tbody>\n</table>\n</div>",
      "text/plain": "            3_svr\ncount  200.000000\nmean     0.735201\nstd      0.221150\nmin      0.063000\n25%      0.620836\n50%      0.802010\n75%      0.926584\nmax      0.991405"
     },
     "execution_count": 6,
     "metadata": {},
     "output_type": "execute_result"
    }
   ],
   "source": [
    "npreds = norm(model['preds'])\n",
    "npreds.head()\n",
    "fid3_svr = fidelity_2(model['real'], npreds)\n",
    "res3_svr = pd.DataFrame(fid3_svr, columns=['3_svr'])\n",
    "results_fidelity.append(res3_svr)\n",
    "res3_svr.describe()"
   ]
  },
  {
   "cell_type": "code",
   "execution_count": 22,
   "metadata": {},
   "outputs": [
    {
     "data": {
      "text/html": "<div>\n<style scoped>\n    .dataframe tbody tr th:only-of-type {\n        vertical-align: middle;\n    }\n\n    .dataframe tbody tr th {\n        vertical-align: top;\n    }\n\n    .dataframe thead th {\n        text-align: right;\n    }\n</style>\n<table border=\"1\" class=\"dataframe\">\n  <thead>\n    <tr style=\"text-align: right;\">\n      <th></th>\n      <th>3_svr</th>\n    </tr>\n  </thead>\n  <tbody>\n    <tr>\n      <th>count</th>\n      <td>200.000000</td>\n    </tr>\n    <tr>\n      <th>mean</th>\n      <td>0.743020</td>\n    </tr>\n    <tr>\n      <th>std</th>\n      <td>0.212160</td>\n    </tr>\n    <tr>\n      <th>min</th>\n      <td>0.135495</td>\n    </tr>\n    <tr>\n      <th>25%</th>\n      <td>0.636835</td>\n    </tr>\n    <tr>\n      <th>50%</th>\n      <td>0.783768</td>\n    </tr>\n    <tr>\n      <th>75%</th>\n      <td>0.912941</td>\n    </tr>\n    <tr>\n      <th>max</th>\n      <td>0.998755</td>\n    </tr>\n  </tbody>\n</table>\n</div>",
      "text/plain": [
       "            3_svr\n",
       "count  200.000000\n",
       "mean     0.743020\n",
       "std      0.212160\n",
       "min      0.135495\n",
       "25%      0.636835\n",
       "50%      0.783768\n",
       "75%      0.912941\n",
       "max      0.998755"
      ]
     },
     "execution_count": 22,
     "metadata": {},
     "output_type": "execute_result"
    }
   ],
   "source": [
    "npreds = norm(model_pca['preds'])\n",
    "npreds.head()\n",
    "fid3_svr = fidelity_2(model_pca['real'], npreds)\n",
    "res3_svr = pd.DataFrame(fid3_svr, columns=['3_svr'])\n",
    "results_fidelity_pca.append(res3_svr)\n",
    "res3_svr.describe()"
   ]
  },
  {
   "cell_type": "markdown",
   "metadata": {},
   "source": [
    "### Results for 4 MODES: 1,2,3 photons\n",
    "#### Without pca"
   ]
  },
  {
   "cell_type": "code",
   "execution_count": 29,
   "metadata": {},
   "outputs": [
    {
     "data": {
      "text/html": "<div>\n<style scoped>\n    .dataframe tbody tr th:only-of-type {\n        vertical-align: middle;\n    }\n\n    .dataframe tbody tr th {\n        vertical-align: top;\n    }\n\n    .dataframe thead th {\n        text-align: right;\n    }\n</style>\n<table border=\"1\" class=\"dataframe\">\n  <thead>\n    <tr style=\"text-align: right;\">\n      <th></th>\n      <th>1_etr</th>\n      <th>1_svr</th>\n      <th>2_etr</th>\n      <th>2_svr</th>\n      <th>3_etr</th>\n      <th>3_svr</th>\n    </tr>\n  </thead>\n  <tbody>\n    <tr>\n      <th>count</th>\n      <td>200.000000</td>\n      <td>200.000000</td>\n      <td>200.000000</td>\n      <td>200.000000</td>\n      <td>200.000000</td>\n      <td>200.000000</td>\n    </tr>\n    <tr>\n      <th>mean</th>\n      <td>0.719850</td>\n      <td>0.823151</td>\n      <td>0.900017</td>\n      <td>0.850400</td>\n      <td>0.761558</td>\n      <td>0.742530</td>\n    </tr>\n    <tr>\n      <th>std</th>\n      <td>0.227072</td>\n      <td>0.190404</td>\n      <td>0.191405</td>\n      <td>0.204878</td>\n      <td>0.206226</td>\n      <td>0.215096</td>\n    </tr>\n    <tr>\n      <th>min</th>\n      <td>0.069204</td>\n      <td>0.054745</td>\n      <td>0.138863</td>\n      <td>0.105860</td>\n      <td>0.090518</td>\n      <td>0.072721</td>\n    </tr>\n    <tr>\n      <th>25%</th>\n      <td>0.557748</td>\n      <td>0.740702</td>\n      <td>0.934672</td>\n      <td>0.787348</td>\n      <td>0.671530</td>\n      <td>0.639721</td>\n    </tr>\n    <tr>\n      <th>50%</th>\n      <td>0.751323</td>\n      <td>0.881910</td>\n      <td>0.987036</td>\n      <td>0.950054</td>\n      <td>0.813736</td>\n      <td>0.807703</td>\n    </tr>\n    <tr>\n      <th>75%</th>\n      <td>0.916520</td>\n      <td>0.970362</td>\n      <td>0.994959</td>\n      <td>0.983219</td>\n      <td>0.928541</td>\n      <td>0.914678</td>\n    </tr>\n    <tr>\n      <th>max</th>\n      <td>0.999996</td>\n      <td>0.999827</td>\n      <td>0.999894</td>\n      <td>0.998861</td>\n      <td>0.988078</td>\n      <td>0.992325</td>\n    </tr>\n  </tbody>\n</table>\n</div>",
      "text/plain": [
       "            1_etr       1_svr       2_etr       2_svr       3_etr       3_svr\n",
       "count  200.000000  200.000000  200.000000  200.000000  200.000000  200.000000\n",
       "mean     0.719850    0.823151    0.900017    0.850400    0.761558    0.742530\n",
       "std      0.227072    0.190404    0.191405    0.204878    0.206226    0.215096\n",
       "min      0.069204    0.054745    0.138863    0.105860    0.090518    0.072721\n",
       "25%      0.557748    0.740702    0.934672    0.787348    0.671530    0.639721\n",
       "50%      0.751323    0.881910    0.987036    0.950054    0.813736    0.807703\n",
       "75%      0.916520    0.970362    0.994959    0.983219    0.928541    0.914678\n",
       "max      0.999996    0.999827    0.999894    0.998861    0.988078    0.992325"
      ]
     },
     "execution_count": 29,
     "metadata": {},
     "output_type": "execute_result"
    }
   ],
   "source": [
    "pd.concat(results_fidelity, axis=1).describe()"
   ]
  },
  {
   "cell_type": "markdown",
   "metadata": {},
   "source": [
    "### Results for 4 MODES: 1,2,3 photons\n",
    "#### With pca"
   ]
  },
  {
   "cell_type": "code",
   "execution_count": 31,
   "metadata": {},
   "outputs": [
    {
     "name": "stdout",
     "output_type": "stream",
     "text": [
      "\\begin{tabular}{rrr}\n",
      "\\toprule\n",
      "     1\\_etr &      2\\_etr &      3\\_etr \\\\\n",
      "\\midrule\n",
      "200.000000 & 200.000000 & 200.000000 \\\\\n",
      "  0.664226 &   0.922877 &   0.787241 \\\\\n",
      "  0.250087 &   0.157877 &   0.189888 \\\\\n",
      "  0.066888 &   0.050081 &   0.116078 \\\\\n",
      "  0.467351 &   0.947035 &   0.702872 \\\\\n",
      "  0.703973 &   0.981661 &   0.852074 \\\\\n",
      "  0.892137 &   0.992386 &   0.936313 \\\\\n",
      "  0.999233 &   0.999749 &   0.994355 \\\\\n",
      "\\bottomrule\n",
      "\\end{tabular}\n",
      "\n"
     ]
    }
   ],
   "source": [
    "print(pd.concat([results_fidelity_pca[0],results_fidelity_pca[2],results_fidelity_pca[4]], axis=1).describe().to_latex(index=False))"
   ]
  },
  {
   "cell_type": "code",
   "execution_count": 32,
   "metadata": {},
   "outputs": [
    {
     "name": "stdout",
     "output_type": "stream",
     "text": [
      "\\begin{tabular}{rrr}\n",
      "\\toprule\n",
      "     1\\_svr &      2\\_svr &      3\\_svr \\\\\n",
      "\\midrule\n",
      "200.000000 & 200.000000 & 200.000000 \\\\\n",
      "  0.816223 &   0.867969 &   0.743020 \\\\\n",
      "  0.221873 &   0.200754 &   0.212160 \\\\\n",
      "  0.058625 &   0.127300 &   0.135495 \\\\\n",
      "  0.734036 &   0.811426 &   0.636835 \\\\\n",
      "  0.908766 &   0.963327 &   0.783768 \\\\\n",
      "  0.986301 &   0.991305 &   0.912941 \\\\\n",
      "  0.999982 &   0.998994 &   0.998755 \\\\\n",
      "\\bottomrule\n",
      "\\end{tabular}\n",
      "\n"
     ]
    }
   ],
   "source": [
    "print(pd.concat([results_fidelity_pca[1],results_fidelity_pca[3],results_fidelity_pca[5]], axis=1).describe().to_latex(index=False))"
   ]
  },
  {
   "cell_type": "code",
   "execution_count": 24,
   "metadata": {},
   "outputs": [
    {
     "data": {
      "text/html": "<div>\n<style scoped>\n    .dataframe tbody tr th:only-of-type {\n        vertical-align: middle;\n    }\n\n    .dataframe tbody tr th {\n        vertical-align: top;\n    }\n\n    .dataframe thead th {\n        text-align: right;\n    }\n</style>\n<table border=\"1\" class=\"dataframe\">\n  <thead>\n    <tr style=\"text-align: right;\">\n      <th></th>\n      <th>1_etr</th>\n      <th>1_svr</th>\n      <th>2_etr</th>\n      <th>2_svr</th>\n      <th>3_etr</th>\n      <th>3_svr</th>\n    </tr>\n  </thead>\n  <tbody>\n    <tr>\n      <th>count</th>\n      <td>200.000000</td>\n      <td>200.000000</td>\n      <td>200.000000</td>\n      <td>200.000000</td>\n      <td>200.000000</td>\n      <td>200.000000</td>\n    </tr>\n    <tr>\n      <th>mean</th>\n      <td>0.664226</td>\n      <td>0.816223</td>\n      <td>0.922877</td>\n      <td>0.867969</td>\n      <td>0.787241</td>\n      <td>0.743020</td>\n    </tr>\n    <tr>\n      <th>std</th>\n      <td>0.250087</td>\n      <td>0.221873</td>\n      <td>0.157877</td>\n      <td>0.200754</td>\n      <td>0.189888</td>\n      <td>0.212160</td>\n    </tr>\n    <tr>\n      <th>min</th>\n      <td>0.066888</td>\n      <td>0.058625</td>\n      <td>0.050081</td>\n      <td>0.127300</td>\n      <td>0.116078</td>\n      <td>0.135495</td>\n    </tr>\n    <tr>\n      <th>25%</th>\n      <td>0.467351</td>\n      <td>0.734036</td>\n      <td>0.947035</td>\n      <td>0.811426</td>\n      <td>0.702872</td>\n      <td>0.636835</td>\n    </tr>\n    <tr>\n      <th>50%</th>\n      <td>0.703973</td>\n      <td>0.908766</td>\n      <td>0.981661</td>\n      <td>0.963327</td>\n      <td>0.852074</td>\n      <td>0.783768</td>\n    </tr>\n    <tr>\n      <th>75%</th>\n      <td>0.892137</td>\n      <td>0.986301</td>\n      <td>0.992386</td>\n      <td>0.991305</td>\n      <td>0.936313</td>\n      <td>0.912941</td>\n    </tr>\n    <tr>\n      <th>max</th>\n      <td>0.999233</td>\n      <td>0.999982</td>\n      <td>0.999749</td>\n      <td>0.998994</td>\n      <td>0.994355</td>\n      <td>0.998755</td>\n    </tr>\n  </tbody>\n</table>\n</div>",
      "text/plain": [
       "            1_etr       1_svr       2_etr       2_svr       3_etr       3_svr\n",
       "count  200.000000  200.000000  200.000000  200.000000  200.000000  200.000000\n",
       "mean     0.664226    0.816223    0.922877    0.867969    0.787241    0.743020\n",
       "std      0.250087    0.221873    0.157877    0.200754    0.189888    0.212160\n",
       "min      0.066888    0.058625    0.050081    0.127300    0.116078    0.135495\n",
       "25%      0.467351    0.734036    0.947035    0.811426    0.702872    0.636835\n",
       "50%      0.703973    0.908766    0.981661    0.963327    0.852074    0.783768\n",
       "75%      0.892137    0.986301    0.992386    0.991305    0.936313    0.912941\n",
       "max      0.999233    0.999982    0.999749    0.998994    0.994355    0.998755"
      ]
     },
     "execution_count": 24,
     "metadata": {},
     "output_type": "execute_result"
    }
   ],
   "source": [
    "pd.concat(results_fidelity_pca, axis=1).describe()"
   ]
  },
  {
   "cell_type": "markdown",
   "metadata": {},
   "source": [
    "## 4 MODES ENTANGLEMENT\n",
    "\n",
    "Here we don't have fidelity only the $R^2$-score to measure the performance of our model."
   ]
  },
  {
   "cell_type": "markdown",
   "metadata": {},
   "source": [
    "### 4 MODES ENTANGLEMENT 1"
   ]
  },
  {
   "cell_type": "code",
   "execution_count": 7,
   "metadata": {},
   "outputs": [
    {
     "name": "stdout",
     "output_type": "stream",
     "text": [
      "Model: [ExtraTreesRegressor(n_estimators=400, random_state=0)] \t Score: [0.7948737607547275]\n",
      "\n",
      "Model: [ExtraTreesRegressor(n_estimators=400, random_state=0)] \t Score: [0.8270332572044895]\n",
      "\n"
     ]
    }
   ],
   "source": [
    "name = 'ent1'\n",
    "model = etr_reg(xy[name],oaa=True)\n",
    "scores(model)\n",
    "model_pca = etr_reg(xy_pca[name],oaa=True)\n",
    "scores(model_pca)"
   ]
  },
  {
   "cell_type": "code",
   "execution_count": 67,
   "metadata": {},
   "outputs": [
    {
     "data": {
      "text/plain": "0.0813025255019954"
     },
     "execution_count": 67,
     "metadata": {},
     "output_type": "execute_result"
    }
   ],
   "source": [
    "mean_absolute_error(model['real'], model['preds'])\n",
    "def ae(real, preds):\n",
    "    dif = np.array(real.squeeze())-np.array(preds.squeeze())\n",
    "    return np.abs(dif)\n",
    "\n",
    "ae_1 = ae(model['real'], model['preds'])\n",
    "ae_1.mean()"
   ]
  },
  {
   "cell_type": "code",
   "execution_count": 59,
   "metadata": {},
   "outputs": [],
   "source": [
    "from sklearn.metrics import mean_absolute_error\n",
    "import matplotlib.pyplot as plt\n",
    "\n",
    "def dummy_regressor(xtrain, xtest, ytrain, ytest):\n",
    "    # predictions are always mean of ytrain\n",
    "    preds = ytrain.mean().repeat(ytest.shape[0])\n",
    "    model = 'dummy'\n",
    "\n",
    "    model_mean = np.array(ytest.squeeze())-np.array(preds)\n",
    "    model_mean_abs = np.abs(model_mean)\n",
    "    # score is MAE\n",
    "    score = mean_absolute_error(ytest, preds)\n",
    "\n",
    "    return {'model':model, 'preds':preds, 'score':score, 'ae':model_mean_abs}"
   ]
  },
  {
   "cell_type": "code",
   "execution_count": 69,
   "metadata": {},
   "outputs": [
    {
     "data": {
      "image/png": "[encoded data removed]",
      "text/plain": "<Figure size 720x504 with 1 Axes>"
     },
     "metadata": {
      "needs_background": "light"
     },
     "output_type": "display_data"
    },
    {
     "data": {
      "text/plain": "<Figure size 432x288 with 0 Axes>"
     },
     "metadata": {},
     "output_type": "display_data"
    }
   ],
   "source": [
    "dr = dummy_regressor(*xy[name])\n",
    "fig = plt.figure(figsize =(10, 7))\n",
    " \n",
    "# Creating axes instance\n",
    "ax = fig.add_axes([0, 0, 1, 1])\n",
    " \n",
    "# Creating plot\n",
    "bp = ax.boxplot([dr['ae'],ae_1])\n",
    " \n",
    "# show plot\n",
    "plt.show()\n",
    "plt.savefig('boxplot_abs_error.png')"
   ]
  },
  {
   "cell_type": "code",
   "execution_count": null,
   "metadata": {},
   "outputs": [],
   "source": []
  },
  {
   "cell_type": "code",
   "execution_count": 3,
   "metadata": {},
   "outputs": [
    {
     "data": {
      "text/html": "<div>\n<style scoped>\n    .dataframe tbody tr th:only-of-type {\n        vertical-align: middle;\n    }\n\n    .dataframe tbody tr th {\n        vertical-align: top;\n    }\n\n    .dataframe thead th {\n        text-align: right;\n    }\n</style>\n<table border=\"1\" class=\"dataframe\">\n  <thead>\n    <tr style=\"text-align: right;\">\n      <th></th>\n      <th>E</th>\n    </tr>\n  </thead>\n  <tbody>\n    <tr>\n      <th>count</th>\n      <td>2.000000e+02</td>\n    </tr>\n    <tr>\n      <th>mean</th>\n      <td>2.973438e-01</td>\n    </tr>\n    <tr>\n      <th>std</th>\n      <td>2.505626e-01</td>\n    </tr>\n    <tr>\n      <th>min</th>\n      <td>2.070827e-07</td>\n    </tr>\n    <tr>\n      <th>25%</th>\n      <td>7.462753e-02</td>\n    </tr>\n    <tr>\n      <th>50%</th>\n      <td>2.408135e-01</td>\n    </tr>\n    <tr>\n      <th>75%</th>\n      <td>4.738974e-01</td>\n    </tr>\n    <tr>\n      <th>max</th>\n      <td>9.241359e-01</td>\n    </tr>\n  </tbody>\n</table>\n</div>",
      "text/plain": "                  E\ncount  2.000000e+02\nmean   2.973438e-01\nstd    2.505626e-01\nmin    2.070827e-07\n25%    7.462753e-02\n50%    2.408135e-01\n75%    4.738974e-01\nmax    9.241359e-01"
     },
     "execution_count": 3,
     "metadata": {},
     "output_type": "execute_result"
    }
   ],
   "source": [
    "model['real'].describe()"
   ]
  },
  {
   "cell_type": "code",
   "execution_count": null,
   "metadata": {},
   "outputs": [],
   "source": [
    "#Model: [ExtraTreesRegressor(n_estimators=400, random_state=0)] \t Score: [0.7948737607547275]\n",
    "\n",
    "#Model: [ExtraTreesRegressor(n_estimators=400, random_state=0)] \t Score: [0.8270332572044895]"
   ]
  },
  {
   "cell_type": "code",
   "execution_count": 2,
   "metadata": {},
   "outputs": [
    {
     "name": "stdout",
     "output_type": "stream",
     "text": [
      "Model: [ExtraTreesRegressor(bootstrap=True, n_estimators=400, random_state=0)] \t Score: [0.7660878600703309]\n",
      "\n",
      "Model: [ExtraTreesRegressor(bootstrap=True, n_estimators=400, random_state=0)] \t Score: [0.8176839308726904]\n",
      "\n"
     ]
    }
   ],
   "source": [
    "name = 'ent1'\n",
    "model = etr_reg(xy[name],oaa=True)\n",
    "scores(model)\n",
    "model_pca = etr_reg(xy_pca[name],oaa=True)\n",
    "scores(model_pca)"
   ]
  },
  {
   "cell_type": "markdown",
   "metadata": {},
   "source": [
    "### 4 MODES ENTANGLEMENT 2"
   ]
  },
  {
   "cell_type": "code",
   "execution_count": 4,
   "metadata": {},
   "outputs": [
    {
     "name": "stdout",
     "output_type": "stream",
     "text": [
      "Model: [ExtraTreesRegressor(bootstrap=True, n_estimators=400, random_state=0)] \t Score: [0.6276552112171734]\n",
      "\n",
      "Model: [ExtraTreesRegressor(bootstrap=True, n_estimators=400, random_state=0)] \t Score: [0.7859780039803735]\n",
      "\n"
     ]
    }
   ],
   "source": [
    "name = 'ent2'\n",
    "model = etr_reg(xy[name],oaa=True)\n",
    "scores(model)\n",
    "model_pca = etr_reg(xy_pca[name],oaa=True)\n",
    "scores(model_pca)"
   ]
  },
  {
   "cell_type": "code",
   "execution_count": null,
   "metadata": {},
   "outputs": [],
   "source": [
    "#Model: [ExtraTreesRegressor(n_estimators=400, random_state=0)] \t Score: [0.6419504944635209]\n",
    "\n",
    "#Model: [ExtraTreesRegressor(n_estimators=400, random_state=0)] \t Score: [0.8007155625344009]\n"
   ]
  },
  {
   "cell_type": "code",
   "execution_count": 5,
   "metadata": {},
   "outputs": [
    {
     "data": {
      "text/html": "<div>\n<style scoped>\n    .dataframe tbody tr th:only-of-type {\n        vertical-align: middle;\n    }\n\n    .dataframe tbody tr th {\n        vertical-align: top;\n    }\n\n    .dataframe thead th {\n        text-align: right;\n    }\n</style>\n<table border=\"1\" class=\"dataframe\">\n  <thead>\n    <tr style=\"text-align: right;\">\n      <th></th>\n      <th>E</th>\n    </tr>\n  </thead>\n  <tbody>\n    <tr>\n      <th>count</th>\n      <td>200.000000</td>\n    </tr>\n    <tr>\n      <th>mean</th>\n      <td>0.297822</td>\n    </tr>\n    <tr>\n      <th>std</th>\n      <td>0.325354</td>\n    </tr>\n    <tr>\n      <th>min</th>\n      <td>0.000002</td>\n    </tr>\n    <tr>\n      <th>25%</th>\n      <td>0.019212</td>\n    </tr>\n    <tr>\n      <th>50%</th>\n      <td>0.175649</td>\n    </tr>\n    <tr>\n      <th>75%</th>\n      <td>0.498251</td>\n    </tr>\n    <tr>\n      <th>max</th>\n      <td>1.175714</td>\n    </tr>\n  </tbody>\n</table>\n</div>",
      "text/plain": "                E\ncount  200.000000\nmean     0.297822\nstd      0.325354\nmin      0.000002\n25%      0.019212\n50%      0.175649\n75%      0.498251\nmax      1.175714"
     },
     "execution_count": 5,
     "metadata": {},
     "output_type": "execute_result"
    }
   ],
   "source": [
    "model['real'].describe()"
   ]
  },
  {
   "cell_type": "code",
   "execution_count": 3,
   "metadata": {},
   "outputs": [
    {
     "name": "stdout",
     "output_type": "stream",
     "text": [
      "Model: [ExtraTreesRegressor(bootstrap=True, n_estimators=400, random_state=0)] \t Score: [0.6276552112171734]\n",
      "\n",
      "Model: [ExtraTreesRegressor(bootstrap=True, n_estimators=400, random_state=0)] \t Score: [0.7859780039803735]\n",
      "\n"
     ]
    }
   ],
   "source": [
    "name = 'ent2'\n",
    "model = etr_reg(xy[name],oaa=True)\n",
    "scores(model)\n",
    "model_pca = etr_reg(xy_pca[name],oaa=True)\n",
    "scores(model_pca)"
   ]
  },
  {
   "cell_type": "markdown",
   "metadata": {},
   "source": [
    "### 4 MODES ENTANGLEMENT 3"
   ]
  },
  {
   "cell_type": "code",
   "execution_count": 6,
   "metadata": {},
   "outputs": [
    {
     "name": "stdout",
     "output_type": "stream",
     "text": [
      "Model: [ExtraTreesRegressor(bootstrap=True, n_estimators=400, random_state=0)] \t Score: [0.6642712057899037]\n",
      "\n",
      "Model: [ExtraTreesRegressor(bootstrap=True, n_estimators=400, random_state=0)] \t Score: [0.7342318636057175]\n",
      "\n"
     ]
    }
   ],
   "source": [
    "name = 'ent3'\n",
    "model = etr_reg(xy[name],oaa=True)\n",
    "scores(model)\n",
    "model_pca = etr_reg(xy_pca[name],oaa=True)\n",
    "scores(model_pca)"
   ]
  },
  {
   "cell_type": "code",
   "execution_count": 7,
   "metadata": {},
   "outputs": [
    {
     "data": {
      "text/html": "<div>\n<style scoped>\n    .dataframe tbody tr th:only-of-type {\n        vertical-align: middle;\n    }\n\n    .dataframe tbody tr th {\n        vertical-align: top;\n    }\n\n    .dataframe thead th {\n        text-align: right;\n    }\n</style>\n<table border=\"1\" class=\"dataframe\">\n  <thead>\n    <tr style=\"text-align: right;\">\n      <th></th>\n      <th>E</th>\n    </tr>\n  </thead>\n  <tbody>\n    <tr>\n      <th>count</th>\n      <td>2.000000e+02</td>\n    </tr>\n    <tr>\n      <th>mean</th>\n      <td>1.597385e-01</td>\n    </tr>\n    <tr>\n      <th>std</th>\n      <td>2.423845e-01</td>\n    </tr>\n    <tr>\n      <th>min</th>\n      <td>1.052384e-07</td>\n    </tr>\n    <tr>\n      <th>25%</th>\n      <td>3.919150e-03</td>\n    </tr>\n    <tr>\n      <th>50%</th>\n      <td>4.259505e-02</td>\n    </tr>\n    <tr>\n      <th>75%</th>\n      <td>2.101384e-01</td>\n    </tr>\n    <tr>\n      <th>max</th>\n      <td>1.306677e+00</td>\n    </tr>\n  </tbody>\n</table>\n</div>",
      "text/plain": "                  E\ncount  2.000000e+02\nmean   1.597385e-01\nstd    2.423845e-01\nmin    1.052384e-07\n25%    3.919150e-03\n50%    4.259505e-02\n75%    2.101384e-01\nmax    1.306677e+00"
     },
     "execution_count": 7,
     "metadata": {},
     "output_type": "execute_result"
    }
   ],
   "source": [
    "model['real'].describe()"
   ]
  },
  {
   "cell_type": "code",
   "execution_count": null,
   "metadata": {},
   "outputs": [],
   "source": []
  },
  {
   "cell_type": "markdown",
   "metadata": {},
   "source": [
    "# Summary\n",
    "\n",
    "Firstly, I have to point that PCA reduces greatly the number of features needed to perform regression keeping almost the same or even better performance in some cases.\n",
    "\n",
    "The 4 Modes for 1, 2 and 3 photons datasets have good results in terms of $R^2$-score for our regression algorithms (SVR and ExtraTreesRegressor) except for the first one. This prompts me to think that maybe the first dataset is quite different from the rest, because one can see a tendency of the scores to drop when introducing more photons, but in this case our predictions show a negative $R^2$-score which means that our regression is arbitrarily wrong, nonetheless fidelity calculation shows us that mean/median values (they are almost the same) are approximately 0.64 and 0.85 for etr & svr each.\n",
    "\n",
    "In terms of fidelity, all the 3 datasets are quite good, with values improved with pca reduction.\n",
    "The $R^2$-scores for the last 3 datasets are also quite good, and also with values improved with pca reduction."
   ]
  },
  {
   "cell_type": "code",
   "execution_count": null,
   "metadata": {},
   "outputs": [],
   "source": []
  }
 ],
 "metadata": {
  "kernelspec": {
   "display_name": "Python 3.8.5 64-bit ('venv': venv)",
   "name": "pythonjvsc74a57bd0eec17f361f866406467be5302f509e8c6edf9163e23a60b4ac6d021973da37aa"
  },
  "language_info": {
   "codemirror_mode": {
    "name": "ipython",
    "version": 3
   },
   "file_extension": ".py",
   "mimetype": "text/x-python",
   "name": "python",
   "nbconvert_exporter": "python",
   "pygments_lexer": "ipython3",
   "version": "3.8.5"
  },
  "metadata": {
   "interpreter": {
    "hash": "eec17f361f866406467be5302f509e8c6edf9163e23a60b4ac6d021973da37aa"
   }
  },
  "orig_nbformat": 2
 },
 "nbformat": 4,
 "nbformat_minor": 2
}